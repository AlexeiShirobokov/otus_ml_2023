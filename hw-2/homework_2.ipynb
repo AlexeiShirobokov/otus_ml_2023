{
 "cells": [
  {
   "cell_type": "markdown",
   "metadata": {},
   "source": [
    "# <center> Homework 2 </center>"
   ]
  },
  {
   "cell_type": "code",
   "execution_count": 1,
   "metadata": {},
   "outputs": [],
   "source": [
    "# autoreload позволяет нам подгружать изменения во внешнем коде\n",
    "# без необходимости перезагружать kernel у ноутбука\n",
    "%load_ext autoreload\n",
    "%autoreload 2"
   ]
  },
  {
   "cell_type": "markdown",
   "metadata": {},
   "source": [
    "## 1) Exceptions\n",
    "В модуле `exceptions` объявите следующие исключения:\n",
    "- LowFuelError\n",
    "- NotEnoughFuel\n",
    "- CargoOverload"
   ]
  },
  {
   "cell_type": "code",
   "execution_count": null,
   "metadata": {},
   "outputs": [],
   "source": []
  },
  {
   "cell_type": "code",
   "execution_count": 2,
   "metadata": {
    "code_folding": [],
    "scrolled": true
   },
   "outputs": [],
   "source": [
    "#import exceptions"
   ]
  },
  {
   "cell_type": "code",
   "execution_count": 3,
   "metadata": {},
   "outputs": [
    {
     "name": "stdout",
     "output_type": "stream",
     "text": [
      "Введи уровень бензина: \n",
      "Введи вес груза: \n",
      "Ошибка ввода! Нужно ввести целое число.\n"
     ]
    }
   ],
   "source": [
    "class LowFuelError(Exception):\n",
    "    def __init__(self, text, num):\n",
    "        self.txt = text\n",
    "        self.n = num\n",
    "\n",
    "class NotEnoughFuel(Exception):\n",
    "    def __init__(self, text, num):\n",
    "        self.txt = text\n",
    "        self.n = num\n",
    "class CargoOverload(Exception):\n",
    "    def __init__(self, text, num, m=100):\n",
    "        self.txt = text\n",
    "        self.n = num\n",
    "        self.m = m\n",
    "a = input(\"Введи уровень бензина: \")\n",
    "b=input(\"Введи вес груза: \")\n",
    "try:\n",
    "    a = int(a)\n",
    "    b = int(b)\n",
    "    m=100\n",
    "    if (a < 10)&(a > 0):\n",
    "        raise LowFuelError(\"Уровень бензина низкий!\", a)\n",
    "    elif a == 0:\n",
    "        raise NotEnoughFuel(\"Бензина нет!\", a)\n",
    "    if b>m:\n",
    "        raise CargoOverload(\"Перегруз!\", b, m)\n",
    "except ValueError:\n",
    "    print(\"Ошибка ввода! Нужно ввести целое число.\")\n",
    "except LowFuelError:\n",
    "    print(\"Уровень бензина низкий!\", a)\n",
    "except NotEnoughFuel:\n",
    "    print(\"Бензина нет!\", a)\n",
    "except CargoOverload:\n",
    "    print(\"Перегруз!\", b)\n"
   ]
  },
  {
   "cell_type": "markdown",
   "metadata": {},
   "source": [
    "## 2) Vehicle \n",
    "\n",
    "<img src=\"https://cs.pikabu.ru/images/big_size_comm/2013-12_4/13874526438897.jpg\" width=300>\n",
    "\n",
    "Доработайте базовый класс `Vehicle`:\n",
    "- добавьте атрибуты `weight`, `started`, `fuel`, `fuel_consumption` со значениями по умолчанию\n",
    "- добавьте инициализатор для установки `weight`, `fuel`, `fuel_consumption`\n",
    "- добавьте метод `start`, который, если ещё не состояние `started`, проверяет, что топлива больше нуля, \n",
    "  и обновляет состояние `started`, иначе выкидывает исключение `exceptions.LowFuelError`\n",
    "- добавьте метод `move`, который проверяет, \n",
    "  что достаточно топлива для преодоления переданной дистанции, \n",
    "  и изменяет количество оставшегося топлива, иначе выкидывает исключение `exceptions.NotEnoughFuel`"
   ]
  },
  {
   "cell_type": "code",
   "execution_count": 73,
   "metadata": {},
   "outputs": [
    {
     "name": "stdout",
     "output_type": "stream",
     "text": [
      "1\n",
      "20\n"
     ]
    },
    {
     "ename": "NotEnoughFuel",
     "evalue": "Бензина недостаточно!",
     "output_type": "error",
     "traceback": [
      "\u001b[1;31m---------------------------------------------------------------------------\u001b[0m",
      "\u001b[1;31mNotEnoughFuel\u001b[0m                             Traceback (most recent call last)",
      "\u001b[1;32m~\\AppData\\Local\\Temp\\ipykernel_12668\\3119592339.py\u001b[0m in \u001b[0;36m<module>\u001b[1;34m\u001b[0m\n\u001b[0;32m     41\u001b[0m \u001b[0mprint\u001b[0m\u001b[1;33m(\u001b[0m\u001b[0mvehicle\u001b[0m\u001b[1;33m.\u001b[0m\u001b[0mstarted\u001b[0m\u001b[1;33m)\u001b[0m\u001b[1;33m\u001b[0m\u001b[1;33m\u001b[0m\u001b[0m\n\u001b[0;32m     42\u001b[0m \u001b[0mprint\u001b[0m\u001b[1;33m(\u001b[0m\u001b[0mvehicle\u001b[0m\u001b[1;33m.\u001b[0m\u001b[0mfuel\u001b[0m\u001b[1;33m)\u001b[0m\u001b[1;33m\u001b[0m\u001b[1;33m\u001b[0m\u001b[0m\n\u001b[1;32m---> 43\u001b[1;33m \u001b[0mprint\u001b[0m\u001b[1;33m(\u001b[0m\u001b[0mvehicle\u001b[0m\u001b[1;33m.\u001b[0m\u001b[0mmove\u001b[0m\u001b[1;33m(\u001b[0m\u001b[1;33m)\u001b[0m\u001b[1;33m)\u001b[0m\u001b[1;33m\u001b[0m\u001b[1;33m\u001b[0m\u001b[0m\n\u001b[0m",
      "\u001b[1;32m~\\AppData\\Local\\Temp\\ipykernel_12668\\3119592339.py\u001b[0m in \u001b[0;36mmove\u001b[1;34m(self, distance)\u001b[0m\n\u001b[0;32m     28\u001b[0m             \u001b[0mprint\u001b[0m\u001b[1;33m(\u001b[0m\u001b[1;34m\"Бензина достаточно\"\u001b[0m\u001b[1;33m)\u001b[0m\u001b[1;33m\u001b[0m\u001b[1;33m\u001b[0m\u001b[0m\n\u001b[0;32m     29\u001b[0m         \u001b[1;32melse\u001b[0m\u001b[1;33m:\u001b[0m\u001b[1;33m\u001b[0m\u001b[1;33m\u001b[0m\u001b[0m\n\u001b[1;32m---> 30\u001b[1;33m             \u001b[1;32mraise\u001b[0m \u001b[0mNotEnoughFuel\u001b[0m\u001b[1;33m(\u001b[0m\u001b[1;34m\"Бензина недостаточно!\"\u001b[0m\u001b[1;33m)\u001b[0m\u001b[1;33m\u001b[0m\u001b[1;33m\u001b[0m\u001b[0m\n\u001b[0m\u001b[0;32m     31\u001b[0m \u001b[0mvehicle\u001b[0m \u001b[1;33m=\u001b[0m \u001b[0mVehicle\u001b[0m\u001b[1;33m(\u001b[0m\u001b[1;36m2000\u001b[0m\u001b[1;33m,\u001b[0m \u001b[1;36m1\u001b[0m\u001b[1;33m,\u001b[0m \u001b[1;36m20\u001b[0m\u001b[1;33m,\u001b[0m \u001b[1;36m10\u001b[0m\u001b[1;33m)\u001b[0m\u001b[1;33m\u001b[0m\u001b[1;33m\u001b[0m\u001b[0m\n\u001b[0;32m     32\u001b[0m \u001b[0mvehicle\u001b[0m\u001b[1;33m.\u001b[0m\u001b[0mstart\u001b[0m\u001b[1;33m(\u001b[0m\u001b[1;33m)\u001b[0m\u001b[1;33m\u001b[0m\u001b[1;33m\u001b[0m\u001b[0m\n",
      "\u001b[1;31mNotEnoughFuel\u001b[0m: Бензина недостаточно!"
     ]
    }
   ],
   "source": [
    "from abc import ABC\n",
    "class LowFuelError(Exception):\n",
    "    def __init__(self, text):\n",
    "        self.txt = text\n",
    "\n",
    "class NotEnoughFuel(Exception):\n",
    "    def __init__(self, text):\n",
    "        self.txt = text\n",
    "\n",
    "class Vehicle(ABC):\n",
    "    def __init__ (self, weight, started, fuel, fuel_consumption):\n",
    "        self.weight=weight\n",
    "        self.started=started\n",
    "        self.fuel=fuel\n",
    "        self.fuel_consumption=fuel_consumption\n",
    "    \n",
    "    def start(self):\n",
    "        if self.started!=0:\n",
    "            return\n",
    "        if self.fuel<=0:\n",
    "            raise LowFuelError(\"Уровень бензина низкий!\")\n",
    "        self.started = 1\n",
    "    \n",
    "    def move(self, distance=10):\n",
    "        toplivo=distance*self.fuel_consumption\n",
    "        if self.fuel>=toplivo:\n",
    "            self.fuel=self.fuel-toplivo\n",
    "            print(\"Бензина достаточно\")\n",
    "        else:\n",
    "            raise NotEnoughFuel(\"Бензина недостаточно!\")\n",
    "vehicle = Vehicle(2000, 1, 20, 10)\n",
    "vehicle.start()\n",
    "try:\n",
    "    vehicle\n",
    "except LowFuelError:\n",
    "    print(\"Уровень бензина низкий!\")\n",
    "try:\n",
    "    vehicle\n",
    "except LNotEnoughFuel:\n",
    "    print(\"Бензина недостаточно!\")  \n",
    "print(vehicle.started) \n",
    "print(vehicle.fuel) \n",
    "print(vehicle.move()) "
   ]
  },
  {
   "cell_type": "code",
   "execution_count": null,
   "metadata": {},
   "outputs": [],
   "source": []
  },
  {
   "cell_type": "markdown",
   "metadata": {},
   "source": [
    "## 3) Engine \n",
    "\n",
    "<img src=\"https://upload.wikimedia.org/wikipedia/commons/6/6f/National_gas_engine_%28Rankin_Kennedy%2C_Modern_Engines%2C_Vol_II%29.jpg\" width=250>\n",
    "\n",
    "Создайте датакласс `Engine`, добавьте атрибуты `volume` и `pistons`"
   ]
  },
  {
   "cell_type": "code",
   "execution_count": 84,
   "metadata": {},
   "outputs": [
    {
     "ename": "TypeError",
     "evalue": "Engine() takes no arguments",
     "output_type": "error",
     "traceback": [
      "\u001b[1;31m---------------------------------------------------------------------------\u001b[0m",
      "\u001b[1;31mTypeError\u001b[0m                                 Traceback (most recent call last)",
      "\u001b[1;32m~\\AppData\\Local\\Temp\\ipykernel_12668\\3444047956.py\u001b[0m in \u001b[0;36m<module>\u001b[1;34m\u001b[0m\n\u001b[0;32m      6\u001b[0m     \u001b[0mvolume\u001b[0m\u001b[1;33m=\u001b[0m\u001b[1;36m10\u001b[0m\u001b[1;33m\u001b[0m\u001b[1;33m\u001b[0m\u001b[0m\n\u001b[0;32m      7\u001b[0m     \u001b[0mpistons\u001b[0m\u001b[1;33m=\u001b[0m\u001b[1;36m6\u001b[0m\u001b[1;33m\u001b[0m\u001b[1;33m\u001b[0m\u001b[0m\n\u001b[1;32m----> 8\u001b[1;33m \u001b[0mmyobject\u001b[0m\u001b[1;33m=\u001b[0m\u001b[0mEngine\u001b[0m\u001b[1;33m(\u001b[0m\u001b[1;34m\"Hello\"\u001b[0m\u001b[1;33m)\u001b[0m\u001b[1;33m\u001b[0m\u001b[1;33m\u001b[0m\u001b[0m\n\u001b[0m\u001b[0;32m      9\u001b[0m \u001b[0mprint\u001b[0m\u001b[1;33m(\u001b[0m\u001b[0mEngine\u001b[0m\u001b[1;33m)\u001b[0m\u001b[1;33m\u001b[0m\u001b[1;33m\u001b[0m\u001b[0m\n",
      "\u001b[1;31mTypeError\u001b[0m: Engine() takes no arguments"
     ]
    }
   ],
   "source": [
    "\"\"\"\n",
    "create dataclass `Engine`\n",
    "\"\"\"\n",
    "\n",
    "class Engine():\n",
    "    volume=10\n",
    "    pistons=6\n",
    "myobject=Engine(\"Hello\")\n",
    "print(Engine)"
   ]
  },
  {
   "cell_type": "markdown",
   "metadata": {},
   "source": [
    "## 4) Car \n",
    "\n",
    "<img src=\"https://lh3.googleusercontent.com/proxy/RJqzSJqZFQrx7xOXimZQ4ooInGE6ViJdwz7JZZ_b__Eun-stRH2NMw47fM4je2hL1afRtmpKS9kZUVY0p2YcaZVtJ7bKRw3wWHRRa6zVUbeIb5TYLNkwx5A\" width=250>\n",
    "\n",
    "Cоздайте класс `Car`\n",
    "    - класс `Car` должен быть наследником `Vehicle`\n",
    "    - добавьте атрибут `engine` классу `Car`\n",
    "    - объявите метод `set_engine`, который принимает в себя экземпляр объекта `Engine` и устанавливает на текущий экземпляр `Car`"
   ]
  },
  {
   "cell_type": "code",
   "execution_count": null,
   "metadata": {},
   "outputs": [],
   "source": [
    "\"\"\"\n",
    "создайте класс `Car`, наследник `Vehicle`\n",
    "\"\"\""
   ]
  },
  {
   "cell_type": "markdown",
   "metadata": {},
   "source": [
    "## 5) Plane\n",
    "\n",
    "<img src=\"http://www.weirduniverse.net/images/2017/1934parachute02.jpg\" width=250>\n",
    "\n",
    "Создайте класс `Plane`\n",
    "- класс `Plane` должен быть наследником `Vehicle`\n",
    "- добавьте атрибуты `cargo` и `max_cargo` классу `Plane`\n",
    "- добавьте `max_cargo` в инициализатор (переопределите родительский)\n",
    "- объявите метод `load_cargo`, который принимает число, проверяет, что в сумме с текущим `cargo` не будет перегруза, и обновляет значение, в ином случае выкидывает исключение `exceptions.CargoOverload`\n",
    "- объявите метод `remove_all_cargo`, который обнуляет значение `cargo` и возвращает значение `cargo`, которое было до обнуления"
   ]
  },
  {
   "cell_type": "code",
   "execution_count": null,
   "metadata": {},
   "outputs": [],
   "source": [
    "\"\"\"\n",
    "создайте класс `Plane`, наследник `Vehicle`\n",
    "\"\"\""
   ]
  }
 ],
 "metadata": {
  "kernelspec": {
   "display_name": "Python 3 (ipykernel)",
   "language": "python",
   "name": "python3"
  },
  "language_info": {
   "codemirror_mode": {
    "name": "ipython",
    "version": 3
   },
   "file_extension": ".py",
   "mimetype": "text/x-python",
   "name": "python",
   "nbconvert_exporter": "python",
   "pygments_lexer": "ipython3",
   "version": "3.9.13"
  },
  "latex_envs": {
   "LaTeX_envs_menu_present": true,
   "autoclose": false,
   "autocomplete": true,
   "bibliofile": "biblio.bib",
   "cite_by": "apalike",
   "current_citInitial": 1,
   "eqLabelWithNumbers": true,
   "eqNumInitial": 1,
   "hotkeys": {
    "equation": "Ctrl-E",
    "itemize": "Ctrl-I"
   },
   "labels_anchors": false,
   "latex_user_defs": false,
   "report_style_numbering": false,
   "user_envs_cfg": false
  },
  "toc": {
   "base_numbering": 1,
   "nav_menu": {},
   "number_sections": true,
   "sideBar": true,
   "skip_h1_title": false,
   "title_cell": "Table of Contents",
   "title_sidebar": "Contents",
   "toc_cell": false,
   "toc_position": {},
   "toc_section_display": true,
   "toc_window_display": false
  },
  "varInspector": {
   "cols": {
    "lenName": 16,
    "lenType": 16,
    "lenVar": 40
   },
   "kernels_config": {
    "python": {
     "delete_cmd_postfix": "",
     "delete_cmd_prefix": "del ",
     "library": "var_list.py",
     "varRefreshCmd": "print(var_dic_list())"
    },
    "r": {
     "delete_cmd_postfix": ") ",
     "delete_cmd_prefix": "rm(",
     "library": "var_list.r",
     "varRefreshCmd": "cat(var_dic_list()) "
    }
   },
   "types_to_exclude": [
    "module",
    "function",
    "builtin_function_or_method",
    "instance",
    "_Feature"
   ],
   "window_display": false
  }
 },
 "nbformat": 4,
 "nbformat_minor": 2
}
